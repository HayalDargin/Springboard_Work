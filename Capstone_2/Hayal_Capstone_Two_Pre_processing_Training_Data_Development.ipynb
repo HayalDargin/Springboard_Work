{
 "cells": [
  {
   "cell_type": "markdown",
   "metadata": {},
   "source": [
    "# Importing the libraries"
   ]
  },
  {
   "cell_type": "code",
   "execution_count": 1,
   "metadata": {},
   "outputs": [],
   "source": [
    "import pandas as pd\n",
    "import numpy as np\n",
    "import matplotlib.pyplot as plt\n",
    "import seaborn as sns\n",
    "from sklearn import __version__ as sklearn_version\n",
    "from sklearn.decomposition import PCA\n",
    "from sklearn.preprocessing import scale\n",
    "from sklearn.model_selection import train_test_split, cross_validate, GridSearchCV, learning_curve\n",
    "from sklearn.preprocessing import StandardScaler, MinMaxScaler\n"
   ]
  },
  {
   "cell_type": "code",
   "execution_count": 2,
   "metadata": {},
   "outputs": [
    {
     "data": {
      "text/html": [
       "<div>\n",
       "<style scoped>\n",
       "    .dataframe tbody tr th:only-of-type {\n",
       "        vertical-align: middle;\n",
       "    }\n",
       "\n",
       "    .dataframe tbody tr th {\n",
       "        vertical-align: top;\n",
       "    }\n",
       "\n",
       "    .dataframe thead th {\n",
       "        text-align: right;\n",
       "    }\n",
       "</style>\n",
       "<table border=\"1\" class=\"dataframe\">\n",
       "  <thead>\n",
       "    <tr style=\"text-align: right;\">\n",
       "      <th></th>\n",
       "      <th>Sex</th>\n",
       "      <th>Race/Ethnicity</th>\n",
       "      <th>Age Group</th>\n",
       "      <th>Year</th>\n",
       "      <th>Injuries</th>\n",
       "      <th>Population</th>\n",
       "    </tr>\n",
       "  </thead>\n",
       "  <tbody>\n",
       "    <tr>\n",
       "      <th>6</th>\n",
       "      <td>Male</td>\n",
       "      <td>White Non-Hispanice</td>\n",
       "      <td>00-04</td>\n",
       "      <td>2001</td>\n",
       "      <td>0</td>\n",
       "      <td>5862483</td>\n",
       "    </tr>\n",
       "    <tr>\n",
       "      <th>7</th>\n",
       "      <td>Male</td>\n",
       "      <td>Black</td>\n",
       "      <td>00-04</td>\n",
       "      <td>2001</td>\n",
       "      <td>0</td>\n",
       "      <td>1585658</td>\n",
       "    </tr>\n",
       "    <tr>\n",
       "      <th>8</th>\n",
       "      <td>Male</td>\n",
       "      <td>Hispanic</td>\n",
       "      <td>00-04</td>\n",
       "      <td>2001</td>\n",
       "      <td>0</td>\n",
       "      <td>1900490</td>\n",
       "    </tr>\n",
       "    <tr>\n",
       "      <th>9</th>\n",
       "      <td>Male</td>\n",
       "      <td>Other Non-Hispanic</td>\n",
       "      <td>00-04</td>\n",
       "      <td>2001</td>\n",
       "      <td>0</td>\n",
       "      <td>518145</td>\n",
       "    </tr>\n",
       "    <tr>\n",
       "      <th>11</th>\n",
       "      <td>Female</td>\n",
       "      <td>White Non-Hispanice</td>\n",
       "      <td>00-04</td>\n",
       "      <td>2001</td>\n",
       "      <td>0</td>\n",
       "      <td>5572690</td>\n",
       "    </tr>\n",
       "    <tr>\n",
       "      <th>...</th>\n",
       "      <td>...</td>\n",
       "      <td>...</td>\n",
       "      <td>...</td>\n",
       "      <td>...</td>\n",
       "      <td>...</td>\n",
       "      <td>...</td>\n",
       "    </tr>\n",
       "    <tr>\n",
       "      <th>5780</th>\n",
       "      <td>Male</td>\n",
       "      <td>Other Non-Hispanic</td>\n",
       "      <td>85+</td>\n",
       "      <td>2018</td>\n",
       "      <td>0</td>\n",
       "      <td>116478</td>\n",
       "    </tr>\n",
       "    <tr>\n",
       "      <th>5783</th>\n",
       "      <td>Female</td>\n",
       "      <td>White Non-Hispanice</td>\n",
       "      <td>85+</td>\n",
       "      <td>2018</td>\n",
       "      <td>0</td>\n",
       "      <td>3349454</td>\n",
       "    </tr>\n",
       "    <tr>\n",
       "      <th>5784</th>\n",
       "      <td>Female</td>\n",
       "      <td>Black</td>\n",
       "      <td>85+</td>\n",
       "      <td>2018</td>\n",
       "      <td>0</td>\n",
       "      <td>366329</td>\n",
       "    </tr>\n",
       "    <tr>\n",
       "      <th>5785</th>\n",
       "      <td>Female</td>\n",
       "      <td>Hispanic</td>\n",
       "      <td>85+</td>\n",
       "      <td>2018</td>\n",
       "      <td>0</td>\n",
       "      <td>304983</td>\n",
       "    </tr>\n",
       "    <tr>\n",
       "      <th>5786</th>\n",
       "      <td>Female</td>\n",
       "      <td>Other Non-Hispanic</td>\n",
       "      <td>85+</td>\n",
       "      <td>2018</td>\n",
       "      <td>0</td>\n",
       "      <td>198044</td>\n",
       "    </tr>\n",
       "  </tbody>\n",
       "</table>\n",
       "<p>2631 rows × 6 columns</p>\n",
       "</div>"
      ],
      "text/plain": [
       "         Sex       Race/Ethnicity Age Group  Year  Injuries  Population\n",
       "6       Male  White Non-Hispanice     00-04  2001         0     5862483\n",
       "7       Male                Black     00-04  2001         0     1585658\n",
       "8       Male             Hispanic     00-04  2001         0     1900490\n",
       "9       Male   Other Non-Hispanic     00-04  2001         0      518145\n",
       "11    Female  White Non-Hispanice     00-04  2001         0     5572690\n",
       "...      ...                  ...       ...   ...       ...         ...\n",
       "5780    Male   Other Non-Hispanic       85+  2018         0      116478\n",
       "5783  Female  White Non-Hispanice       85+  2018         0     3349454\n",
       "5784  Female                Black       85+  2018         0      366329\n",
       "5785  Female             Hispanic       85+  2018         0      304983\n",
       "5786  Female   Other Non-Hispanic       85+  2018         0      198044\n",
       "\n",
       "[2631 rows x 6 columns]"
      ]
     },
     "execution_count": 2,
     "metadata": {},
     "output_type": "execute_result"
    }
   ],
   "source": [
    "Self_harm_EDA = pd.read_csv('/Users/hayaldargin/Desktop/Springboard/Springboard_Work/Capstone_2/Final_Data/Self_harm_EDA.csv', index_col=0)\n",
    "Self_harm_EDA "
   ]
  },
  {
   "cell_type": "markdown",
   "metadata": {},
   "source": [
    "# 1.Splitting of the data set in Training and Validation sets"
   ]
  },
  {
   "cell_type": "code",
   "execution_count": 3,
   "metadata": {},
   "outputs": [
    {
     "data": {
      "text/plain": [
       "(2104.8, 526.2)"
      ]
     },
     "execution_count": 3,
     "metadata": {},
     "output_type": "execute_result"
    }
   ],
   "source": [
    "len(Self_harm_EDA) * .8, len(Self_harm_EDA) * .2"
   ]
  },
  {
   "cell_type": "code",
   "execution_count": 4,
   "metadata": {},
   "outputs": [],
   "source": [
    "\n",
    "X_train, X_test, y_train, y_test = train_test_split(Self_harm_EDA.drop(columns='Injuries'), \n",
    "                                                    Self_harm_EDA.Injuries, test_size=0.2)"
   ]
  },
  {
   "cell_type": "code",
   "execution_count": 5,
   "metadata": {},
   "outputs": [
    {
     "data": {
      "text/plain": [
       "((2104, 5), (527, 5))"
      ]
     },
     "execution_count": 5,
     "metadata": {},
     "output_type": "execute_result"
    }
   ],
   "source": [
    "X_train.shape, X_test.shape"
   ]
  },
  {
   "cell_type": "code",
   "execution_count": 6,
   "metadata": {},
   "outputs": [
    {
     "data": {
      "text/plain": [
       "((2104,), (527,))"
      ]
     },
     "execution_count": 6,
     "metadata": {},
     "output_type": "execute_result"
    }
   ],
   "source": [
    "y_train.shape, y_test.shape"
   ]
  },
  {
   "cell_type": "markdown",
   "metadata": {},
   "source": [
    "Here I have passed-in X and y as arguments in train_test_split, which splits X and y such that there is 20% testing data and 80% training data successfully split between X_train, X_test, y_train, and y_test."
   ]
  },
  {
   "cell_type": "markdown",
   "metadata": {},
   "source": [
    "# 2. Taking Care of Missing Values"
   ]
  },
  {
   "cell_type": "code",
   "execution_count": 7,
   "metadata": {},
   "outputs": [
    {
     "data": {
      "text/plain": [
       "Sex                0\n",
       "Race/Ethnicity    39\n",
       "Age Group          0\n",
       "Year               0\n",
       "Injuries           0\n",
       "Population         0\n",
       "dtype: int64"
      ]
     },
     "execution_count": 7,
     "metadata": {},
     "output_type": "execute_result"
    }
   ],
   "source": [
    "Self_harm_EDA.isna().sum()"
   ]
  },
  {
   "cell_type": "markdown",
   "metadata": {},
   "source": [
    "Here I can see that we have 39 missing values in Race/Ethnicity column. One approach to fill in missing values is to fill it with the mean of that column, which is the average of that column but Race/Ethnicity column is categorical that is by I will drop these missing rows. "
   ]
  },
  {
   "cell_type": "code",
   "execution_count": 8,
   "metadata": {},
   "outputs": [
    {
     "data": {
      "text/html": [
       "<div>\n",
       "<style scoped>\n",
       "    .dataframe tbody tr th:only-of-type {\n",
       "        vertical-align: middle;\n",
       "    }\n",
       "\n",
       "    .dataframe tbody tr th {\n",
       "        vertical-align: top;\n",
       "    }\n",
       "\n",
       "    .dataframe thead th {\n",
       "        text-align: right;\n",
       "    }\n",
       "</style>\n",
       "<table border=\"1\" class=\"dataframe\">\n",
       "  <thead>\n",
       "    <tr style=\"text-align: right;\">\n",
       "      <th></th>\n",
       "      <th>Sex</th>\n",
       "      <th>Race/Ethnicity</th>\n",
       "      <th>Age Group</th>\n",
       "      <th>Year</th>\n",
       "      <th>Injuries</th>\n",
       "      <th>Population</th>\n",
       "    </tr>\n",
       "  </thead>\n",
       "  <tbody>\n",
       "    <tr>\n",
       "      <th>6</th>\n",
       "      <td>Male</td>\n",
       "      <td>White Non-Hispanice</td>\n",
       "      <td>00-04</td>\n",
       "      <td>2001</td>\n",
       "      <td>0</td>\n",
       "      <td>5862483</td>\n",
       "    </tr>\n",
       "    <tr>\n",
       "      <th>7</th>\n",
       "      <td>Male</td>\n",
       "      <td>Black</td>\n",
       "      <td>00-04</td>\n",
       "      <td>2001</td>\n",
       "      <td>0</td>\n",
       "      <td>1585658</td>\n",
       "    </tr>\n",
       "    <tr>\n",
       "      <th>8</th>\n",
       "      <td>Male</td>\n",
       "      <td>Hispanic</td>\n",
       "      <td>00-04</td>\n",
       "      <td>2001</td>\n",
       "      <td>0</td>\n",
       "      <td>1900490</td>\n",
       "    </tr>\n",
       "    <tr>\n",
       "      <th>9</th>\n",
       "      <td>Male</td>\n",
       "      <td>Other Non-Hispanic</td>\n",
       "      <td>00-04</td>\n",
       "      <td>2001</td>\n",
       "      <td>0</td>\n",
       "      <td>518145</td>\n",
       "    </tr>\n",
       "    <tr>\n",
       "      <th>11</th>\n",
       "      <td>Female</td>\n",
       "      <td>White Non-Hispanice</td>\n",
       "      <td>00-04</td>\n",
       "      <td>2001</td>\n",
       "      <td>0</td>\n",
       "      <td>5572690</td>\n",
       "    </tr>\n",
       "    <tr>\n",
       "      <th>...</th>\n",
       "      <td>...</td>\n",
       "      <td>...</td>\n",
       "      <td>...</td>\n",
       "      <td>...</td>\n",
       "      <td>...</td>\n",
       "      <td>...</td>\n",
       "    </tr>\n",
       "    <tr>\n",
       "      <th>5780</th>\n",
       "      <td>Male</td>\n",
       "      <td>Other Non-Hispanic</td>\n",
       "      <td>85+</td>\n",
       "      <td>2018</td>\n",
       "      <td>0</td>\n",
       "      <td>116478</td>\n",
       "    </tr>\n",
       "    <tr>\n",
       "      <th>5783</th>\n",
       "      <td>Female</td>\n",
       "      <td>White Non-Hispanice</td>\n",
       "      <td>85+</td>\n",
       "      <td>2018</td>\n",
       "      <td>0</td>\n",
       "      <td>3349454</td>\n",
       "    </tr>\n",
       "    <tr>\n",
       "      <th>5784</th>\n",
       "      <td>Female</td>\n",
       "      <td>Black</td>\n",
       "      <td>85+</td>\n",
       "      <td>2018</td>\n",
       "      <td>0</td>\n",
       "      <td>366329</td>\n",
       "    </tr>\n",
       "    <tr>\n",
       "      <th>5785</th>\n",
       "      <td>Female</td>\n",
       "      <td>Hispanic</td>\n",
       "      <td>85+</td>\n",
       "      <td>2018</td>\n",
       "      <td>0</td>\n",
       "      <td>304983</td>\n",
       "    </tr>\n",
       "    <tr>\n",
       "      <th>5786</th>\n",
       "      <td>Female</td>\n",
       "      <td>Other Non-Hispanic</td>\n",
       "      <td>85+</td>\n",
       "      <td>2018</td>\n",
       "      <td>0</td>\n",
       "      <td>198044</td>\n",
       "    </tr>\n",
       "  </tbody>\n",
       "</table>\n",
       "<p>2592 rows × 6 columns</p>\n",
       "</div>"
      ],
      "text/plain": [
       "         Sex       Race/Ethnicity Age Group  Year  Injuries  Population\n",
       "6       Male  White Non-Hispanice     00-04  2001         0     5862483\n",
       "7       Male                Black     00-04  2001         0     1585658\n",
       "8       Male             Hispanic     00-04  2001         0     1900490\n",
       "9       Male   Other Non-Hispanic     00-04  2001         0      518145\n",
       "11    Female  White Non-Hispanice     00-04  2001         0     5572690\n",
       "...      ...                  ...       ...   ...       ...         ...\n",
       "5780    Male   Other Non-Hispanic       85+  2018         0      116478\n",
       "5783  Female  White Non-Hispanice       85+  2018         0     3349454\n",
       "5784  Female                Black       85+  2018         0      366329\n",
       "5785  Female             Hispanic       85+  2018         0      304983\n",
       "5786  Female   Other Non-Hispanic       85+  2018         0      198044\n",
       "\n",
       "[2592 rows x 6 columns]"
      ]
     },
     "execution_count": 8,
     "metadata": {},
     "output_type": "execute_result"
    }
   ],
   "source": [
    "Self_harm_cleaned = Self_harm_EDA.dropna(axis = 0, how ='any')    \n",
    "Self_harm_cleaned"
   ]
  },
  {
   "cell_type": "code",
   "execution_count": 9,
   "metadata": {},
   "outputs": [
    {
     "data": {
      "text/plain": [
       "Sex               0\n",
       "Race/Ethnicity    0\n",
       "Age Group         0\n",
       "Year              0\n",
       "Injuries          0\n",
       "Population        0\n",
       "dtype: int64"
      ]
     },
     "execution_count": 9,
     "metadata": {},
     "output_type": "execute_result"
    }
   ],
   "source": [
    "Self_harm_cleaned.isna().sum()"
   ]
  },
  {
   "cell_type": "markdown",
   "metadata": {},
   "source": [
    "And now, I can see that there are no missing values in the data set."
   ]
  },
  {
   "cell_type": "markdown",
   "metadata": {},
   "source": [
    "# 3. Taking care of Categorical Features"
   ]
  },
  {
   "cell_type": "markdown",
   "metadata": {},
   "source": [
    "I can take care of categorical features by converting them to integers by using Label Encoding method."
   ]
  },
  {
   "cell_type": "code",
   "execution_count": 10,
   "metadata": {},
   "outputs": [
    {
     "data": {
      "text/plain": [
       "Female    1296\n",
       "Male      1296\n",
       "Name: Sex, dtype: int64"
      ]
     },
     "execution_count": 10,
     "metadata": {},
     "output_type": "execute_result"
    }
   ],
   "source": [
    "Self_harm_cleaned[\"Sex\"].value_counts()"
   ]
  },
  {
   "cell_type": "code",
   "execution_count": 11,
   "metadata": {},
   "outputs": [
    {
     "data": {
      "text/plain": [
       "Other Non-Hispanic     648\n",
       "Hispanic               648\n",
       "White Non-Hispanice    648\n",
       "Black                  648\n",
       "Name: Race/Ethnicity, dtype: int64"
      ]
     },
     "execution_count": 11,
     "metadata": {},
     "output_type": "execute_result"
    }
   ],
   "source": [
    "Self_harm_cleaned[\"Race/Ethnicity\"].value_counts()"
   ]
  },
  {
   "cell_type": "code",
   "execution_count": 12,
   "metadata": {},
   "outputs": [],
   "source": [
    "convert_sex= {\"Sex\":     {\"Male\": 1, \"Female\": 0}}\n",
    "               "
   ]
  },
  {
   "cell_type": "code",
   "execution_count": 13,
   "metadata": {},
   "outputs": [
    {
     "data": {
      "text/html": [
       "<div>\n",
       "<style scoped>\n",
       "    .dataframe tbody tr th:only-of-type {\n",
       "        vertical-align: middle;\n",
       "    }\n",
       "\n",
       "    .dataframe tbody tr th {\n",
       "        vertical-align: top;\n",
       "    }\n",
       "\n",
       "    .dataframe thead th {\n",
       "        text-align: right;\n",
       "    }\n",
       "</style>\n",
       "<table border=\"1\" class=\"dataframe\">\n",
       "  <thead>\n",
       "    <tr style=\"text-align: right;\">\n",
       "      <th></th>\n",
       "      <th>Sex</th>\n",
       "      <th>Race/Ethnicity</th>\n",
       "      <th>Age Group</th>\n",
       "      <th>Year</th>\n",
       "      <th>Injuries</th>\n",
       "      <th>Population</th>\n",
       "    </tr>\n",
       "  </thead>\n",
       "  <tbody>\n",
       "    <tr>\n",
       "      <th>6</th>\n",
       "      <td>1</td>\n",
       "      <td>White Non-Hispanice</td>\n",
       "      <td>00-04</td>\n",
       "      <td>2001</td>\n",
       "      <td>0</td>\n",
       "      <td>5862483</td>\n",
       "    </tr>\n",
       "    <tr>\n",
       "      <th>7</th>\n",
       "      <td>1</td>\n",
       "      <td>Black</td>\n",
       "      <td>00-04</td>\n",
       "      <td>2001</td>\n",
       "      <td>0</td>\n",
       "      <td>1585658</td>\n",
       "    </tr>\n",
       "    <tr>\n",
       "      <th>8</th>\n",
       "      <td>1</td>\n",
       "      <td>Hispanic</td>\n",
       "      <td>00-04</td>\n",
       "      <td>2001</td>\n",
       "      <td>0</td>\n",
       "      <td>1900490</td>\n",
       "    </tr>\n",
       "    <tr>\n",
       "      <th>9</th>\n",
       "      <td>1</td>\n",
       "      <td>Other Non-Hispanic</td>\n",
       "      <td>00-04</td>\n",
       "      <td>2001</td>\n",
       "      <td>0</td>\n",
       "      <td>518145</td>\n",
       "    </tr>\n",
       "    <tr>\n",
       "      <th>11</th>\n",
       "      <td>0</td>\n",
       "      <td>White Non-Hispanice</td>\n",
       "      <td>00-04</td>\n",
       "      <td>2001</td>\n",
       "      <td>0</td>\n",
       "      <td>5572690</td>\n",
       "    </tr>\n",
       "  </tbody>\n",
       "</table>\n",
       "</div>"
      ],
      "text/plain": [
       "    Sex       Race/Ethnicity Age Group  Year  Injuries  Population\n",
       "6     1  White Non-Hispanice     00-04  2001         0     5862483\n",
       "7     1                Black     00-04  2001         0     1585658\n",
       "8     1             Hispanic     00-04  2001         0     1900490\n",
       "9     1   Other Non-Hispanic     00-04  2001         0      518145\n",
       "11    0  White Non-Hispanice     00-04  2001         0     5572690"
      ]
     },
     "execution_count": 13,
     "metadata": {},
     "output_type": "execute_result"
    }
   ],
   "source": [
    "Self_harm_cleaned = Self_harm_cleaned.replace(convert_sex)\n",
    "Self_harm_cleaned.head()"
   ]
  },
  {
   "cell_type": "code",
   "execution_count": 14,
   "metadata": {},
   "outputs": [],
   "source": [
    "convert_race = { \"Race/Ethnicity\": {\"Black\":1, \"Other Non-Hispanic\":2, \"Hispanic\":3, \"White Non-Hispanice\":4}}"
   ]
  },
  {
   "cell_type": "code",
   "execution_count": 15,
   "metadata": {},
   "outputs": [
    {
     "data": {
      "text/html": [
       "<div>\n",
       "<style scoped>\n",
       "    .dataframe tbody tr th:only-of-type {\n",
       "        vertical-align: middle;\n",
       "    }\n",
       "\n",
       "    .dataframe tbody tr th {\n",
       "        vertical-align: top;\n",
       "    }\n",
       "\n",
       "    .dataframe thead th {\n",
       "        text-align: right;\n",
       "    }\n",
       "</style>\n",
       "<table border=\"1\" class=\"dataframe\">\n",
       "  <thead>\n",
       "    <tr style=\"text-align: right;\">\n",
       "      <th></th>\n",
       "      <th>Sex</th>\n",
       "      <th>Race/Ethnicity</th>\n",
       "      <th>Age Group</th>\n",
       "      <th>Year</th>\n",
       "      <th>Injuries</th>\n",
       "      <th>Population</th>\n",
       "    </tr>\n",
       "  </thead>\n",
       "  <tbody>\n",
       "    <tr>\n",
       "      <th>6</th>\n",
       "      <td>1</td>\n",
       "      <td>4</td>\n",
       "      <td>00-04</td>\n",
       "      <td>2001</td>\n",
       "      <td>0</td>\n",
       "      <td>5862483</td>\n",
       "    </tr>\n",
       "    <tr>\n",
       "      <th>7</th>\n",
       "      <td>1</td>\n",
       "      <td>1</td>\n",
       "      <td>00-04</td>\n",
       "      <td>2001</td>\n",
       "      <td>0</td>\n",
       "      <td>1585658</td>\n",
       "    </tr>\n",
       "    <tr>\n",
       "      <th>8</th>\n",
       "      <td>1</td>\n",
       "      <td>3</td>\n",
       "      <td>00-04</td>\n",
       "      <td>2001</td>\n",
       "      <td>0</td>\n",
       "      <td>1900490</td>\n",
       "    </tr>\n",
       "    <tr>\n",
       "      <th>9</th>\n",
       "      <td>1</td>\n",
       "      <td>2</td>\n",
       "      <td>00-04</td>\n",
       "      <td>2001</td>\n",
       "      <td>0</td>\n",
       "      <td>518145</td>\n",
       "    </tr>\n",
       "    <tr>\n",
       "      <th>11</th>\n",
       "      <td>0</td>\n",
       "      <td>4</td>\n",
       "      <td>00-04</td>\n",
       "      <td>2001</td>\n",
       "      <td>0</td>\n",
       "      <td>5572690</td>\n",
       "    </tr>\n",
       "  </tbody>\n",
       "</table>\n",
       "</div>"
      ],
      "text/plain": [
       "    Sex  Race/Ethnicity Age Group  Year  Injuries  Population\n",
       "6     1               4     00-04  2001         0     5862483\n",
       "7     1               1     00-04  2001         0     1585658\n",
       "8     1               3     00-04  2001         0     1900490\n",
       "9     1               2     00-04  2001         0      518145\n",
       "11    0               4     00-04  2001         0     5572690"
      ]
     },
     "execution_count": 15,
     "metadata": {},
     "output_type": "execute_result"
    }
   ],
   "source": [
    "Self_harm_cleaned = Self_harm_cleaned.replace(convert_race)\n",
    "Self_harm_cleaned.head()"
   ]
  },
  {
   "cell_type": "code",
   "execution_count": 16,
   "metadata": {},
   "outputs": [
    {
     "data": {
      "text/plain": [
       "60-64    144\n",
       "80-84    144\n",
       "15-19    144\n",
       "40-44    144\n",
       "05-09    144\n",
       "00-04    144\n",
       "10-14    144\n",
       "65-69    144\n",
       "30-34    144\n",
       "85+      144\n",
       "35-39    144\n",
       "70-74    144\n",
       "45-49    144\n",
       "20-24    144\n",
       "25-29    144\n",
       "55-59    144\n",
       "75-79    144\n",
       "50-54    144\n",
       "Name: Age Group, dtype: int64"
      ]
     },
     "execution_count": 16,
     "metadata": {},
     "output_type": "execute_result"
    }
   ],
   "source": [
    "Self_harm_cleaned[\"Age Group\"].value_counts()"
   ]
  },
  {
   "cell_type": "code",
   "execution_count": 17,
   "metadata": {},
   "outputs": [],
   "source": [
    "convert_age = {\"Age Group\":{\"00-04\":1, \"05-09\":2,\"10-14\":3, \"15-19\":4,  \"20-24\":5, \"25-29\":6, \"30-34\":7, \n",
    "                            \"35-39\":8, \"40-44\":9, \"45-49\":10, \"50-54\":11, \"55-59\":12, \"60-64\":13, \"65-69\":14, \n",
    "                            \"70-74\":15, \"75-79\":16, \"80-84\":17, \"85+\":1}}"
   ]
  },
  {
   "cell_type": "code",
   "execution_count": 18,
   "metadata": {},
   "outputs": [
    {
     "data": {
      "text/html": [
       "<div>\n",
       "<style scoped>\n",
       "    .dataframe tbody tr th:only-of-type {\n",
       "        vertical-align: middle;\n",
       "    }\n",
       "\n",
       "    .dataframe tbody tr th {\n",
       "        vertical-align: top;\n",
       "    }\n",
       "\n",
       "    .dataframe thead th {\n",
       "        text-align: right;\n",
       "    }\n",
       "</style>\n",
       "<table border=\"1\" class=\"dataframe\">\n",
       "  <thead>\n",
       "    <tr style=\"text-align: right;\">\n",
       "      <th></th>\n",
       "      <th>Sex</th>\n",
       "      <th>Race/Ethnicity</th>\n",
       "      <th>Age Group</th>\n",
       "      <th>Year</th>\n",
       "      <th>Injuries</th>\n",
       "      <th>Population</th>\n",
       "    </tr>\n",
       "  </thead>\n",
       "  <tbody>\n",
       "    <tr>\n",
       "      <th>6</th>\n",
       "      <td>1</td>\n",
       "      <td>4</td>\n",
       "      <td>1</td>\n",
       "      <td>2001</td>\n",
       "      <td>0</td>\n",
       "      <td>5862483</td>\n",
       "    </tr>\n",
       "    <tr>\n",
       "      <th>7</th>\n",
       "      <td>1</td>\n",
       "      <td>1</td>\n",
       "      <td>1</td>\n",
       "      <td>2001</td>\n",
       "      <td>0</td>\n",
       "      <td>1585658</td>\n",
       "    </tr>\n",
       "    <tr>\n",
       "      <th>8</th>\n",
       "      <td>1</td>\n",
       "      <td>3</td>\n",
       "      <td>1</td>\n",
       "      <td>2001</td>\n",
       "      <td>0</td>\n",
       "      <td>1900490</td>\n",
       "    </tr>\n",
       "    <tr>\n",
       "      <th>9</th>\n",
       "      <td>1</td>\n",
       "      <td>2</td>\n",
       "      <td>1</td>\n",
       "      <td>2001</td>\n",
       "      <td>0</td>\n",
       "      <td>518145</td>\n",
       "    </tr>\n",
       "    <tr>\n",
       "      <th>11</th>\n",
       "      <td>0</td>\n",
       "      <td>4</td>\n",
       "      <td>1</td>\n",
       "      <td>2001</td>\n",
       "      <td>0</td>\n",
       "      <td>5572690</td>\n",
       "    </tr>\n",
       "  </tbody>\n",
       "</table>\n",
       "</div>"
      ],
      "text/plain": [
       "    Sex  Race/Ethnicity  Age Group  Year  Injuries  Population\n",
       "6     1               4          1  2001         0     5862483\n",
       "7     1               1          1  2001         0     1585658\n",
       "8     1               3          1  2001         0     1900490\n",
       "9     1               2          1  2001         0      518145\n",
       "11    0               4          1  2001         0     5572690"
      ]
     },
     "execution_count": 18,
     "metadata": {},
     "output_type": "execute_result"
    }
   ],
   "source": [
    "Self_harm_cleaned = Self_harm_cleaned.replace(convert_age)\n",
    "Self_harm_cleaned.head()"
   ]
  },
  {
   "cell_type": "code",
   "execution_count": 19,
   "metadata": {},
   "outputs": [
    {
     "data": {
      "text/plain": [
       "Sex               int64\n",
       "Race/Ethnicity    int64\n",
       "Age Group         int64\n",
       "Year              int64\n",
       "Injuries          int64\n",
       "Population        int64\n",
       "dtype: object"
      ]
     },
     "execution_count": 19,
     "metadata": {},
     "output_type": "execute_result"
    }
   ],
   "source": [
    "Self_harm_cleaned.dtypes"
   ]
  },
  {
   "cell_type": "markdown",
   "metadata": {},
   "source": [
    "Now I have converted all my columns to numeric."
   ]
  },
  {
   "cell_type": "markdown",
   "metadata": {},
   "source": [
    "# 4. Normalizing the Dataset"
   ]
  },
  {
   "cell_type": "markdown",
   "metadata": {},
   "source": [
    "This is the last part of data preprocessing, which is the normalization of my the dataset. It is proven from certain experimentation that Machine Learning and Deep Learning Models perform way better on a normalized data set as compared to a data set that is not normalized therefore i want to normalize my dataset. \n",
    "The goal of normalization here is to change values to a common scale without distorting the difference between the range of values."
   ]
  },
  {
   "cell_type": "code",
   "execution_count": 20,
   "metadata": {},
   "outputs": [
    {
     "data": {
      "text/html": [
       "<div>\n",
       "<style scoped>\n",
       "    .dataframe tbody tr th:only-of-type {\n",
       "        vertical-align: middle;\n",
       "    }\n",
       "\n",
       "    .dataframe tbody tr th {\n",
       "        vertical-align: top;\n",
       "    }\n",
       "\n",
       "    .dataframe thead th {\n",
       "        text-align: right;\n",
       "    }\n",
       "</style>\n",
       "<table border=\"1\" class=\"dataframe\">\n",
       "  <thead>\n",
       "    <tr style=\"text-align: right;\">\n",
       "      <th></th>\n",
       "      <th>Sex</th>\n",
       "      <th>Race/Ethnicity</th>\n",
       "      <th>Age Group</th>\n",
       "      <th>Year</th>\n",
       "      <th>Injuries</th>\n",
       "      <th>Population</th>\n",
       "    </tr>\n",
       "  </thead>\n",
       "  <tbody>\n",
       "    <tr>\n",
       "      <th>count</th>\n",
       "      <td>2592.000000</td>\n",
       "      <td>2592.00000</td>\n",
       "      <td>2592.000000</td>\n",
       "      <td>2592.000000</td>\n",
       "      <td>2592.000000</td>\n",
       "      <td>2.592000e+03</td>\n",
       "    </tr>\n",
       "    <tr>\n",
       "      <th>mean</th>\n",
       "      <td>0.500000</td>\n",
       "      <td>2.50000</td>\n",
       "      <td>8.555556</td>\n",
       "      <td>2009.500000</td>\n",
       "      <td>1877.717207</td>\n",
       "      <td>2.132055e+06</td>\n",
       "    </tr>\n",
       "    <tr>\n",
       "      <th>std</th>\n",
       "      <td>0.500096</td>\n",
       "      <td>1.11825</td>\n",
       "      <td>5.102424</td>\n",
       "      <td>5.189129</td>\n",
       "      <td>4785.736155</td>\n",
       "      <td>2.221288e+06</td>\n",
       "    </tr>\n",
       "    <tr>\n",
       "      <th>min</th>\n",
       "      <td>0.000000</td>\n",
       "      <td>1.00000</td>\n",
       "      <td>1.000000</td>\n",
       "      <td>2001.000000</td>\n",
       "      <td>0.000000</td>\n",
       "      <td>3.232100e+04</td>\n",
       "    </tr>\n",
       "    <tr>\n",
       "      <th>25%</th>\n",
       "      <td>0.000000</td>\n",
       "      <td>1.75000</td>\n",
       "      <td>4.000000</td>\n",
       "      <td>2005.000000</td>\n",
       "      <td>0.000000</td>\n",
       "      <td>5.784355e+05</td>\n",
       "    </tr>\n",
       "    <tr>\n",
       "      <th>50%</th>\n",
       "      <td>0.500000</td>\n",
       "      <td>2.50000</td>\n",
       "      <td>8.500000</td>\n",
       "      <td>2009.500000</td>\n",
       "      <td>0.000000</td>\n",
       "      <td>1.385744e+06</td>\n",
       "    </tr>\n",
       "    <tr>\n",
       "      <th>75%</th>\n",
       "      <td>1.000000</td>\n",
       "      <td>3.25000</td>\n",
       "      <td>13.000000</td>\n",
       "      <td>2014.000000</td>\n",
       "      <td>0.000000</td>\n",
       "      <td>2.358336e+06</td>\n",
       "    </tr>\n",
       "    <tr>\n",
       "      <th>max</th>\n",
       "      <td>1.000000</td>\n",
       "      <td>4.00000</td>\n",
       "      <td>17.000000</td>\n",
       "      <td>2018.000000</td>\n",
       "      <td>41408.000000</td>\n",
       "      <td>8.220183e+06</td>\n",
       "    </tr>\n",
       "  </tbody>\n",
       "</table>\n",
       "</div>"
      ],
      "text/plain": [
       "               Sex  Race/Ethnicity    Age Group         Year      Injuries  \\\n",
       "count  2592.000000      2592.00000  2592.000000  2592.000000   2592.000000   \n",
       "mean      0.500000         2.50000     8.555556  2009.500000   1877.717207   \n",
       "std       0.500096         1.11825     5.102424     5.189129   4785.736155   \n",
       "min       0.000000         1.00000     1.000000  2001.000000      0.000000   \n",
       "25%       0.000000         1.75000     4.000000  2005.000000      0.000000   \n",
       "50%       0.500000         2.50000     8.500000  2009.500000      0.000000   \n",
       "75%       1.000000         3.25000    13.000000  2014.000000      0.000000   \n",
       "max       1.000000         4.00000    17.000000  2018.000000  41408.000000   \n",
       "\n",
       "         Population  \n",
       "count  2.592000e+03  \n",
       "mean   2.132055e+06  \n",
       "std    2.221288e+06  \n",
       "min    3.232100e+04  \n",
       "25%    5.784355e+05  \n",
       "50%    1.385744e+06  \n",
       "75%    2.358336e+06  \n",
       "max    8.220183e+06  "
      ]
     },
     "execution_count": 20,
     "metadata": {},
     "output_type": "execute_result"
    }
   ],
   "source": [
    "Self_harm_cleaned.describe()"
   ]
  },
  {
   "cell_type": "code",
   "execution_count": 21,
   "metadata": {},
   "outputs": [
    {
     "data": {
      "text/html": [
       "<div>\n",
       "<style scoped>\n",
       "    .dataframe tbody tr th:only-of-type {\n",
       "        vertical-align: middle;\n",
       "    }\n",
       "\n",
       "    .dataframe tbody tr th {\n",
       "        vertical-align: top;\n",
       "    }\n",
       "\n",
       "    .dataframe thead th {\n",
       "        text-align: right;\n",
       "    }\n",
       "</style>\n",
       "<table border=\"1\" class=\"dataframe\">\n",
       "  <thead>\n",
       "    <tr style=\"text-align: right;\">\n",
       "      <th></th>\n",
       "      <th>Sex</th>\n",
       "      <th>Race/Ethnicity</th>\n",
       "      <th>Age Group</th>\n",
       "      <th>Year</th>\n",
       "      <th>Injuries</th>\n",
       "      <th>Population</th>\n",
       "    </tr>\n",
       "  </thead>\n",
       "  <tbody>\n",
       "    <tr>\n",
       "      <th>6</th>\n",
       "      <td>1</td>\n",
       "      <td>0.001999</td>\n",
       "      <td>0.000500</td>\n",
       "      <td>0.999998</td>\n",
       "      <td>0.0</td>\n",
       "      <td>5862483</td>\n",
       "    </tr>\n",
       "    <tr>\n",
       "      <th>7</th>\n",
       "      <td>1</td>\n",
       "      <td>0.000500</td>\n",
       "      <td>0.000500</td>\n",
       "      <td>1.000000</td>\n",
       "      <td>0.0</td>\n",
       "      <td>1585658</td>\n",
       "    </tr>\n",
       "    <tr>\n",
       "      <th>8</th>\n",
       "      <td>1</td>\n",
       "      <td>0.001499</td>\n",
       "      <td>0.000500</td>\n",
       "      <td>0.999999</td>\n",
       "      <td>0.0</td>\n",
       "      <td>1900490</td>\n",
       "    </tr>\n",
       "    <tr>\n",
       "      <th>9</th>\n",
       "      <td>1</td>\n",
       "      <td>0.000999</td>\n",
       "      <td>0.000500</td>\n",
       "      <td>0.999999</td>\n",
       "      <td>0.0</td>\n",
       "      <td>518145</td>\n",
       "    </tr>\n",
       "    <tr>\n",
       "      <th>11</th>\n",
       "      <td>0</td>\n",
       "      <td>0.001999</td>\n",
       "      <td>0.000500</td>\n",
       "      <td>0.999998</td>\n",
       "      <td>0.0</td>\n",
       "      <td>5572690</td>\n",
       "    </tr>\n",
       "    <tr>\n",
       "      <th>...</th>\n",
       "      <td>...</td>\n",
       "      <td>...</td>\n",
       "      <td>...</td>\n",
       "      <td>...</td>\n",
       "      <td>...</td>\n",
       "      <td>...</td>\n",
       "    </tr>\n",
       "    <tr>\n",
       "      <th>5780</th>\n",
       "      <td>1</td>\n",
       "      <td>0.000991</td>\n",
       "      <td>0.000496</td>\n",
       "      <td>0.999999</td>\n",
       "      <td>0.0</td>\n",
       "      <td>116478</td>\n",
       "    </tr>\n",
       "    <tr>\n",
       "      <th>5783</th>\n",
       "      <td>0</td>\n",
       "      <td>0.001982</td>\n",
       "      <td>0.000496</td>\n",
       "      <td>0.999998</td>\n",
       "      <td>0.0</td>\n",
       "      <td>3349454</td>\n",
       "    </tr>\n",
       "    <tr>\n",
       "      <th>5784</th>\n",
       "      <td>0</td>\n",
       "      <td>0.000496</td>\n",
       "      <td>0.000496</td>\n",
       "      <td>1.000000</td>\n",
       "      <td>0.0</td>\n",
       "      <td>366329</td>\n",
       "    </tr>\n",
       "    <tr>\n",
       "      <th>5785</th>\n",
       "      <td>0</td>\n",
       "      <td>0.001487</td>\n",
       "      <td>0.000496</td>\n",
       "      <td>0.999999</td>\n",
       "      <td>0.0</td>\n",
       "      <td>304983</td>\n",
       "    </tr>\n",
       "    <tr>\n",
       "      <th>5786</th>\n",
       "      <td>0</td>\n",
       "      <td>0.000991</td>\n",
       "      <td>0.000496</td>\n",
       "      <td>0.999999</td>\n",
       "      <td>0.0</td>\n",
       "      <td>198044</td>\n",
       "    </tr>\n",
       "  </tbody>\n",
       "</table>\n",
       "<p>2592 rows × 6 columns</p>\n",
       "</div>"
      ],
      "text/plain": [
       "      Sex  Race/Ethnicity  Age Group      Year  Injuries  Population\n",
       "6       1        0.001999   0.000500  0.999998       0.0     5862483\n",
       "7       1        0.000500   0.000500  1.000000       0.0     1585658\n",
       "8       1        0.001499   0.000500  0.999999       0.0     1900490\n",
       "9       1        0.000999   0.000500  0.999999       0.0      518145\n",
       "11      0        0.001999   0.000500  0.999998       0.0     5572690\n",
       "...   ...             ...        ...       ...       ...         ...\n",
       "5780    1        0.000991   0.000496  0.999999       0.0      116478\n",
       "5783    0        0.001982   0.000496  0.999998       0.0     3349454\n",
       "5784    0        0.000496   0.000496  1.000000       0.0      366329\n",
       "5785    0        0.001487   0.000496  0.999999       0.0      304983\n",
       "5786    0        0.000991   0.000496  0.999999       0.0      198044\n",
       "\n",
       "[2592 rows x 6 columns]"
      ]
     },
     "execution_count": 21,
     "metadata": {},
     "output_type": "execute_result"
    }
   ],
   "source": [
    "from sklearn.preprocessing import Normalizer\n",
    "\n",
    "norm = Normalizer()\n",
    "\n",
    "Self_harm_cleaned.iloc[:,1:-1] = norm.fit_transform(Self_harm_cleaned.iloc[:,1:-1])\n",
    "\n",
    "Self_harm_cleaned"
   ]
  },
  {
   "cell_type": "code",
   "execution_count": 22,
   "metadata": {},
   "outputs": [
    {
     "data": {
      "text/html": [
       "<div>\n",
       "<style scoped>\n",
       "    .dataframe tbody tr th:only-of-type {\n",
       "        vertical-align: middle;\n",
       "    }\n",
       "\n",
       "    .dataframe tbody tr th {\n",
       "        vertical-align: top;\n",
       "    }\n",
       "\n",
       "    .dataframe thead th {\n",
       "        text-align: right;\n",
       "    }\n",
       "</style>\n",
       "<table border=\"1\" class=\"dataframe\">\n",
       "  <thead>\n",
       "    <tr style=\"text-align: right;\">\n",
       "      <th></th>\n",
       "      <th>Sex</th>\n",
       "      <th>Race/Ethnicity</th>\n",
       "      <th>Age Group</th>\n",
       "      <th>Year</th>\n",
       "      <th>Injuries</th>\n",
       "      <th>Population</th>\n",
       "    </tr>\n",
       "  </thead>\n",
       "  <tbody>\n",
       "    <tr>\n",
       "      <th>count</th>\n",
       "      <td>2592.000000</td>\n",
       "      <td>2592.000000</td>\n",
       "      <td>2592.000000</td>\n",
       "      <td>2592.000000</td>\n",
       "      <td>2592.000000</td>\n",
       "      <td>2.592000e+03</td>\n",
       "    </tr>\n",
       "    <tr>\n",
       "      <th>mean</th>\n",
       "      <td>0.500000</td>\n",
       "      <td>0.001005</td>\n",
       "      <td>0.003763</td>\n",
       "      <td>0.863963</td>\n",
       "      <td>0.188479</td>\n",
       "      <td>2.132055e+06</td>\n",
       "    </tr>\n",
       "    <tr>\n",
       "      <th>std</th>\n",
       "      <td>0.500096</td>\n",
       "      <td>0.000540</td>\n",
       "      <td>0.002781</td>\n",
       "      <td>0.285721</td>\n",
       "      <td>0.369415</td>\n",
       "      <td>2.221288e+06</td>\n",
       "    </tr>\n",
       "    <tr>\n",
       "      <th>min</th>\n",
       "      <td>0.000000</td>\n",
       "      <td>0.000096</td>\n",
       "      <td>0.000096</td>\n",
       "      <td>0.048629</td>\n",
       "      <td>0.000000</td>\n",
       "      <td>3.232100e+04</td>\n",
       "    </tr>\n",
       "    <tr>\n",
       "      <th>25%</th>\n",
       "      <td>0.000000</td>\n",
       "      <td>0.000498</td>\n",
       "      <td>0.000995</td>\n",
       "      <td>0.999964</td>\n",
       "      <td>0.000000</td>\n",
       "      <td>5.784355e+05</td>\n",
       "    </tr>\n",
       "    <tr>\n",
       "      <th>50%</th>\n",
       "      <td>0.500000</td>\n",
       "      <td>0.000995</td>\n",
       "      <td>0.003477</td>\n",
       "      <td>0.999982</td>\n",
       "      <td>0.000000</td>\n",
       "      <td>1.385744e+06</td>\n",
       "    </tr>\n",
       "    <tr>\n",
       "      <th>75%</th>\n",
       "      <td>1.000000</td>\n",
       "      <td>0.001492</td>\n",
       "      <td>0.006461</td>\n",
       "      <td>0.999996</td>\n",
       "      <td>0.000000</td>\n",
       "      <td>2.358336e+06</td>\n",
       "    </tr>\n",
       "    <tr>\n",
       "      <th>max</th>\n",
       "      <td>1.000000</td>\n",
       "      <td>0.001999</td>\n",
       "      <td>0.008495</td>\n",
       "      <td>1.000000</td>\n",
       "      <td>0.998817</td>\n",
       "      <td>8.220183e+06</td>\n",
       "    </tr>\n",
       "  </tbody>\n",
       "</table>\n",
       "</div>"
      ],
      "text/plain": [
       "               Sex  Race/Ethnicity    Age Group         Year     Injuries  \\\n",
       "count  2592.000000     2592.000000  2592.000000  2592.000000  2592.000000   \n",
       "mean      0.500000        0.001005     0.003763     0.863963     0.188479   \n",
       "std       0.500096        0.000540     0.002781     0.285721     0.369415   \n",
       "min       0.000000        0.000096     0.000096     0.048629     0.000000   \n",
       "25%       0.000000        0.000498     0.000995     0.999964     0.000000   \n",
       "50%       0.500000        0.000995     0.003477     0.999982     0.000000   \n",
       "75%       1.000000        0.001492     0.006461     0.999996     0.000000   \n",
       "max       1.000000        0.001999     0.008495     1.000000     0.998817   \n",
       "\n",
       "         Population  \n",
       "count  2.592000e+03  \n",
       "mean   2.132055e+06  \n",
       "std    2.221288e+06  \n",
       "min    3.232100e+04  \n",
       "25%    5.784355e+05  \n",
       "50%    1.385744e+06  \n",
       "75%    2.358336e+06  \n",
       "max    8.220183e+06  "
      ]
     },
     "execution_count": 22,
     "metadata": {},
     "output_type": "execute_result"
    }
   ],
   "source": [
    "Self_harm_cleaned.describe()"
   ]
  },
  {
   "cell_type": "markdown",
   "metadata": {},
   "source": [
    "End"
   ]
  }
 ],
 "metadata": {
  "kernelspec": {
   "display_name": "Python 3",
   "language": "python",
   "name": "python3"
  },
  "language_info": {
   "codemirror_mode": {
    "name": "ipython",
    "version": 3
   },
   "file_extension": ".py",
   "mimetype": "text/x-python",
   "name": "python",
   "nbconvert_exporter": "python",
   "pygments_lexer": "ipython3",
   "version": "3.8.3"
  }
 },
 "nbformat": 4,
 "nbformat_minor": 4
}
